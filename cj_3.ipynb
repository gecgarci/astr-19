{
 "cells": [
  {
   "cell_type": "code",
   "execution_count": null,
   "id": "34edc1f9-9ca1-44cb-8bd7-5049dbbc71ac",
   "metadata": {},
   "outputs": [],
   "source": [
    "import numpy as np\n",
    "import matplotlib.pyplt as plt"
   ]
  },
  {
   "cell_type": "code",
   "execution_count": 1,
   "id": "91e6822e-1b06-45af-8bc0-e07524040c2e",
   "metadata": {},
   "outputs": [
    {
     "ename": "NameError",
     "evalue": "name 'np' is not defined",
     "output_type": "error",
     "traceback": [
      "\u001b[0;31m---------------------------------------------------------------------------\u001b[0m",
      "\u001b[0;31mNameError\u001b[0m                                 Traceback (most recent call last)",
      "Cell \u001b[0;32mIn[1], line 2\u001b[0m\n\u001b[1;32m      1\u001b[0m \u001b[38;5;66;03m#generated 1000 random numbers between the points [0,1]\u001b[39;00m\n\u001b[0;32m----> 2\u001b[0m ran_num \u001b[38;5;241m=\u001b[39m \u001b[43mnp\u001b[49m\u001b[38;5;241m.\u001b[39mrandom\u001b[38;5;241m.\u001b[39muniform(\u001b[38;5;241m0\u001b[39m, \u001b[38;5;241m1\u001b[39m, \u001b[38;5;241m1000\u001b[39m)\n\u001b[1;32m      4\u001b[0m \u001b[38;5;66;03m#created histogram w/ 100 bins\u001b[39;00m\n\u001b[1;32m      5\u001b[0m plt\u001b[38;5;241m.\u001b[39mfigure(figsize\u001b[38;5;241m=\u001b[39m(\u001b[38;5;241m8\u001b[39m,\u001b[38;5;241m6\u001b[39m))\n",
      "\u001b[0;31mNameError\u001b[0m: name 'np' is not defined"
     ]
    }
   ],
   "source": [
    "#generated 1000 random numbers between the points [0,1]\n",
    "ran_num = np.random.uniform(0, 1, 1000)\n",
    "\n",
    "#created histogram w/ 100 bins\n",
    "plt.figure(figsize=(8,6))\n",
    "plt.hist(ran_num, bins=100,)\n",
    "\n",
    "#labeling axes\n",
    "plt.xlabel('x')\n",
    "plt.ylabel('y')\n",
    "plt.title('Code Jour"
   ]
  },
  {
   "cell_type": "code",
   "execution_count": null,
   "id": "e24dcf3d-65e8-4eab-848c-aa97a0ea60e5",
   "metadata": {},
   "outputs": [],
   "source": []
  }
 ],
 "metadata": {
  "kernelspec": {
   "display_name": "Python 3 (ipykernel)",
   "language": "python",
   "name": "python3"
  },
  "language_info": {
   "codemirror_mode": {
    "name": "ipython",
    "version": 3
   },
   "file_extension": ".py",
   "mimetype": "text/x-python",
   "name": "python",
   "nbconvert_exporter": "python",
   "pygments_lexer": "ipython3",
   "version": "3.12.0"
  }
 },
 "nbformat": 4,
 "nbformat_minor": 5
}
